{
 "cells": [
  {
   "cell_type": "code",
   "execution_count": 100,
   "id": "930350db",
   "metadata": {},
   "outputs": [],
   "source": [
    "import numpy as np \n",
    "import pandas as pd\n",
    "import matplotlib.pyplot as plt\n",
    "import seaborn as sns"
   ]
  },
  {
   "cell_type": "code",
   "execution_count": 101,
   "id": "ad32b667",
   "metadata": {},
   "outputs": [],
   "source": [
    "df1=pd.read_csv(r\"C:\\Users\\alasy\\Downloads\\movie_data\\movies.csv\")\n",
    "df2=pd.read_csv(r\"C:\\Users\\alasy\\Downloads\\movie_data\\ratings.csv\")\n",
    "df3=pd.read_csv(r\"C:\\Users\\alasy\\Downloads\\movie_data\\tags.csv\")\n",
    "df4=pd.read_csv(r\"C:\\Users\\alasy\\Downloads\\movie_data\\links.csv\")"
   ]
  },
  {
   "cell_type": "code",
   "execution_count": 102,
   "id": "c5cbb4ac",
   "metadata": {},
   "outputs": [
    {
     "data": {
      "text/plain": [
       "(9742, 3)"
      ]
     },
     "execution_count": 102,
     "metadata": {},
     "output_type": "execute_result"
    }
   ],
   "source": [
    "df1.shape"
   ]
  },
  {
   "cell_type": "code",
   "execution_count": 103,
   "id": "65adae91",
   "metadata": {},
   "outputs": [
    {
     "data": {
      "text/plain": [
       "(100836, 4)"
      ]
     },
     "execution_count": 103,
     "metadata": {},
     "output_type": "execute_result"
    }
   ],
   "source": [
    "df2.shape"
   ]
  },
  {
   "cell_type": "code",
   "execution_count": 104,
   "id": "8e4a14b6",
   "metadata": {},
   "outputs": [
    {
     "data": {
      "text/plain": [
       "610"
      ]
     },
     "execution_count": 104,
     "metadata": {},
     "output_type": "execute_result"
    }
   ],
   "source": [
    "len(set(df2['userId'].tolist()))"
   ]
  },
  {
   "cell_type": "code",
   "execution_count": 106,
   "id": "4f26bc08",
   "metadata": {},
   "outputs": [
    {
     "data": {
      "text/plain": [
       "movieId  title                                    \n",
       "1        Toy Story (1995)                             215\n",
       "2        Jumanji (1995)                               110\n",
       "3        Grumpier Old Men (1995)                       52\n",
       "4        Waiting to Exhale (1995)                       7\n",
       "5        Father of the Bride Part II (1995)            49\n",
       "                                                     ... \n",
       "193581   Black Butler: Book of the Atlantic (2017)      1\n",
       "193583   No Game No Life: Zero (2017)                   1\n",
       "193585   Flint (2017)                                   1\n",
       "193587   Bungo Stray Dogs: Dead Apple (2018)            1\n",
       "193609   Andrew Dice Clay: Dice Rules (1991)            1\n",
       "Name: rating, Length: 9724, dtype: int64"
      ]
     },
     "execution_count": 106,
     "metadata": {},
     "output_type": "execute_result"
    }
   ],
   "source": [
    "df1.merge(df2,on='movieId').groupby(['movieId','title'])['rating'].count()"
   ]
  },
  {
   "cell_type": "code",
   "execution_count": 108,
   "id": "27108060",
   "metadata": {},
   "outputs": [],
   "source": [
    "shy= df2.groupby('movieId')['rating'].count()"
   ]
  },
  {
   "cell_type": "code",
   "execution_count": 109,
   "id": "7c01a458",
   "metadata": {},
   "outputs": [
    {
     "data": {
      "text/plain": [
       "movieId\n",
       "356       329\n",
       "318       317\n",
       "296       307\n",
       "593       279\n",
       "2571      278\n",
       "         ... \n",
       "4093        1\n",
       "4089        1\n",
       "58351       1\n",
       "4083        1\n",
       "193609      1\n",
       "Name: rating, Length: 9724, dtype: int64"
      ]
     },
     "execution_count": 109,
     "metadata": {},
     "output_type": "execute_result"
    }
   ],
   "source": [
    "shy.sort_values(ascending=False)\n"
   ]
  },
  {
   "cell_type": "code",
   "execution_count": 110,
   "id": "56968292",
   "metadata": {},
   "outputs": [
    {
     "data": {
      "text/plain": [
       "title          Forrest Gump (1994)\n",
       "genres    Comedy|Drama|Romance|War\n",
       "Name: 356, dtype: object"
      ]
     },
     "execution_count": 110,
     "metadata": {},
     "output_type": "execute_result"
    }
   ],
   "source": [
    "df1.set_index('movieId').loc[356]"
   ]
  },
  {
   "cell_type": "code",
   "execution_count": 111,
   "id": "1390d683",
   "metadata": {},
   "outputs": [
    {
     "data": {
      "text/html": [
       "<div>\n",
       "<style scoped>\n",
       "    .dataframe tbody tr th:only-of-type {\n",
       "        vertical-align: middle;\n",
       "    }\n",
       "\n",
       "    .dataframe tbody tr th {\n",
       "        vertical-align: top;\n",
       "    }\n",
       "\n",
       "    .dataframe thead th {\n",
       "        text-align: right;\n",
       "    }\n",
       "</style>\n",
       "<table border=\"1\" class=\"dataframe\">\n",
       "  <thead>\n",
       "    <tr style=\"text-align: right;\">\n",
       "      <th></th>\n",
       "      <th>index</th>\n",
       "      <th>movieId</th>\n",
       "      <th>title</th>\n",
       "      <th>genres</th>\n",
       "    </tr>\n",
       "  </thead>\n",
       "  <tbody>\n",
       "    <tr>\n",
       "      <th>0</th>\n",
       "      <td>0</td>\n",
       "      <td>1</td>\n",
       "      <td>Toy Story (1995)</td>\n",
       "      <td>Adventure|Animation|Children|Comedy|Fantasy</td>\n",
       "    </tr>\n",
       "    <tr>\n",
       "      <th>1</th>\n",
       "      <td>1</td>\n",
       "      <td>2</td>\n",
       "      <td>Jumanji (1995)</td>\n",
       "      <td>Adventure|Children|Fantasy</td>\n",
       "    </tr>\n",
       "    <tr>\n",
       "      <th>2</th>\n",
       "      <td>2</td>\n",
       "      <td>3</td>\n",
       "      <td>Grumpier Old Men (1995)</td>\n",
       "      <td>Comedy|Romance</td>\n",
       "    </tr>\n",
       "    <tr>\n",
       "      <th>3</th>\n",
       "      <td>3</td>\n",
       "      <td>4</td>\n",
       "      <td>Waiting to Exhale (1995)</td>\n",
       "      <td>Comedy|Drama|Romance</td>\n",
       "    </tr>\n",
       "    <tr>\n",
       "      <th>4</th>\n",
       "      <td>4</td>\n",
       "      <td>5</td>\n",
       "      <td>Father of the Bride Part II (1995)</td>\n",
       "      <td>Comedy</td>\n",
       "    </tr>\n",
       "    <tr>\n",
       "      <th>...</th>\n",
       "      <td>...</td>\n",
       "      <td>...</td>\n",
       "      <td>...</td>\n",
       "      <td>...</td>\n",
       "    </tr>\n",
       "    <tr>\n",
       "      <th>9737</th>\n",
       "      <td>9737</td>\n",
       "      <td>193581</td>\n",
       "      <td>Black Butler: Book of the Atlantic (2017)</td>\n",
       "      <td>Action|Animation|Comedy|Fantasy</td>\n",
       "    </tr>\n",
       "    <tr>\n",
       "      <th>9738</th>\n",
       "      <td>9738</td>\n",
       "      <td>193583</td>\n",
       "      <td>No Game No Life: Zero (2017)</td>\n",
       "      <td>Animation|Comedy|Fantasy</td>\n",
       "    </tr>\n",
       "    <tr>\n",
       "      <th>9739</th>\n",
       "      <td>9739</td>\n",
       "      <td>193585</td>\n",
       "      <td>Flint (2017)</td>\n",
       "      <td>Drama</td>\n",
       "    </tr>\n",
       "    <tr>\n",
       "      <th>9740</th>\n",
       "      <td>9740</td>\n",
       "      <td>193587</td>\n",
       "      <td>Bungo Stray Dogs: Dead Apple (2018)</td>\n",
       "      <td>Action|Animation</td>\n",
       "    </tr>\n",
       "    <tr>\n",
       "      <th>9741</th>\n",
       "      <td>9741</td>\n",
       "      <td>193609</td>\n",
       "      <td>Andrew Dice Clay: Dice Rules (1991)</td>\n",
       "      <td>Comedy</td>\n",
       "    </tr>\n",
       "  </tbody>\n",
       "</table>\n",
       "<p>9742 rows × 4 columns</p>\n",
       "</div>"
      ],
      "text/plain": [
       "      index  movieId                                      title  \\\n",
       "0         0        1                           Toy Story (1995)   \n",
       "1         1        2                             Jumanji (1995)   \n",
       "2         2        3                    Grumpier Old Men (1995)   \n",
       "3         3        4                   Waiting to Exhale (1995)   \n",
       "4         4        5         Father of the Bride Part II (1995)   \n",
       "...     ...      ...                                        ...   \n",
       "9737   9737   193581  Black Butler: Book of the Atlantic (2017)   \n",
       "9738   9738   193583               No Game No Life: Zero (2017)   \n",
       "9739   9739   193585                               Flint (2017)   \n",
       "9740   9740   193587        Bungo Stray Dogs: Dead Apple (2018)   \n",
       "9741   9741   193609        Andrew Dice Clay: Dice Rules (1991)   \n",
       "\n",
       "                                           genres  \n",
       "0     Adventure|Animation|Children|Comedy|Fantasy  \n",
       "1                      Adventure|Children|Fantasy  \n",
       "2                                  Comedy|Romance  \n",
       "3                            Comedy|Drama|Romance  \n",
       "4                                          Comedy  \n",
       "...                                           ...  \n",
       "9737              Action|Animation|Comedy|Fantasy  \n",
       "9738                     Animation|Comedy|Fantasy  \n",
       "9739                                        Drama  \n",
       "9740                             Action|Animation  \n",
       "9741                                       Comedy  \n",
       "\n",
       "[9742 rows x 4 columns]"
      ]
     },
     "execution_count": 111,
     "metadata": {},
     "output_type": "execute_result"
    }
   ],
   "source": [
    "df1.reset_index()"
   ]
  },
  {
   "cell_type": "code",
   "execution_count": 112,
   "id": "dbbed4c3",
   "metadata": {},
   "outputs": [
    {
     "data": {
      "text/plain": [
       "movieId                      2571\n",
       "genres     Action|Sci-Fi|Thriller\n",
       "Name: Matrix, The (1999), dtype: object"
      ]
     },
     "execution_count": 112,
     "metadata": {},
     "output_type": "execute_result"
    }
   ],
   "source": [
    "df1.set_index('title').loc[\"Matrix, The (1999)\"]"
   ]
  },
  {
   "cell_type": "code",
   "execution_count": 113,
   "id": "70e7005e",
   "metadata": {},
   "outputs": [
    {
     "data": {
      "text/html": [
       "<div>\n",
       "<style scoped>\n",
       "    .dataframe tbody tr th:only-of-type {\n",
       "        vertical-align: middle;\n",
       "    }\n",
       "\n",
       "    .dataframe tbody tr th {\n",
       "        vertical-align: top;\n",
       "    }\n",
       "\n",
       "    .dataframe thead th {\n",
       "        text-align: right;\n",
       "    }\n",
       "</style>\n",
       "<table border=\"1\" class=\"dataframe\">\n",
       "  <thead>\n",
       "    <tr style=\"text-align: right;\">\n",
       "      <th></th>\n",
       "      <th>userId</th>\n",
       "      <th>tag</th>\n",
       "      <th>timestamp</th>\n",
       "    </tr>\n",
       "    <tr>\n",
       "      <th>movieId</th>\n",
       "      <th></th>\n",
       "      <th></th>\n",
       "      <th></th>\n",
       "    </tr>\n",
       "  </thead>\n",
       "  <tbody>\n",
       "    <tr>\n",
       "      <th>2571</th>\n",
       "      <td>424</td>\n",
       "      <td>martial arts</td>\n",
       "      <td>1457842912</td>\n",
       "    </tr>\n",
       "    <tr>\n",
       "      <th>2571</th>\n",
       "      <td>424</td>\n",
       "      <td>sci-fi</td>\n",
       "      <td>1457842899</td>\n",
       "    </tr>\n",
       "    <tr>\n",
       "      <th>2571</th>\n",
       "      <td>474</td>\n",
       "      <td>alternate universe</td>\n",
       "      <td>1137204991</td>\n",
       "    </tr>\n",
       "    <tr>\n",
       "      <th>2571</th>\n",
       "      <td>537</td>\n",
       "      <td>philosophy</td>\n",
       "      <td>1424141098</td>\n",
       "    </tr>\n",
       "    <tr>\n",
       "      <th>2571</th>\n",
       "      <td>537</td>\n",
       "      <td>post apocalyptic</td>\n",
       "      <td>1424141101</td>\n",
       "    </tr>\n",
       "  </tbody>\n",
       "</table>\n",
       "</div>"
      ],
      "text/plain": [
       "         userId                 tag   timestamp\n",
       "movieId                                        \n",
       "2571        424        martial arts  1457842912\n",
       "2571        424              sci-fi  1457842899\n",
       "2571        474  alternate universe  1137204991\n",
       "2571        537          philosophy  1424141098\n",
       "2571        537    post apocalyptic  1424141101"
      ]
     },
     "execution_count": 113,
     "metadata": {},
     "output_type": "execute_result"
    }
   ],
   "source": [
    "df3.set_index('movieId').loc[2571]"
   ]
  },
  {
   "cell_type": "code",
   "execution_count": 114,
   "id": "299df3e1",
   "metadata": {},
   "outputs": [
    {
     "data": {
      "text/plain": [
       "movieId              589\n",
       "genres     Action|Sci-Fi\n",
       "Name: Terminator 2: Judgment Day (1991), dtype: object"
      ]
     },
     "execution_count": 114,
     "metadata": {},
     "output_type": "execute_result"
    }
   ],
   "source": [
    "df1.set_index('title').loc['Terminator 2: Judgment Day (1991)']"
   ]
  },
  {
   "cell_type": "code",
   "execution_count": 115,
   "id": "87a9887d",
   "metadata": {},
   "outputs": [
    {
     "data": {
      "text/plain": [
       "3.970982142857143"
      ]
     },
     "execution_count": 115,
     "metadata": {},
     "output_type": "execute_result"
    }
   ],
   "source": [
    "df2[df2['movieId']==589]['rating'].mean()"
   ]
  },
  {
   "cell_type": "code",
   "execution_count": 116,
   "id": "2bc44083",
   "metadata": {},
   "outputs": [
    {
     "data": {
      "text/plain": [
       "<AxesSubplot:ylabel='Density'>"
      ]
     },
     "execution_count": 116,
     "metadata": {},
     "output_type": "execute_result"
    },
    {
     "data": {
      "image/png": "[encoded data removed]",
      "text/plain": [
       "<Figure size 640x480 with 1 Axes>"
      ]
     },
     "metadata": {},
     "output_type": "display_data"
    }
   ],
   "source": [
    "df2[df2['movieId']==2959]['rating'].plot(kind='kde')"
   ]
  },
  {
   "cell_type": "code",
   "execution_count": 117,
   "id": "5f3067b4",
   "metadata": {},
   "outputs": [],
   "source": [
    "FILE = df2.groupby('movieId').agg({'rating':['count','mean']}).reset_index()"
   ]
  },
  {
   "cell_type": "code",
   "execution_count": 119,
   "id": "1c2c4983",
   "metadata": {},
   "outputs": [
    {
     "name": "stderr",
     "output_type": "stream",
     "text": [
      "C:\\Users\\alasy\\AppData\\Local\\Temp\\ipykernel_35036\\3504109893.py:1: FutureWarning: merging between different levels is deprecated and will be removed in a future version. (1 levels on the left, 2 on the right)\n",
      "  newfile = pd.merge(df1,FILE,on='movieId')\n",
      "C:\\Users\\alasy\\AppData\\Local\\Temp\\ipykernel_35036\\3504109893.py:1: PerformanceWarning: dropping on a non-lexsorted multi-index without a level parameter may impact performance.\n",
      "  newfile = pd.merge(df1,FILE,on='movieId')\n"
     ]
    }
   ],
   "source": [
    "newfile = pd.merge(df1,FILE,on='movieId')"
   ]
  },
  {
   "cell_type": "code",
   "execution_count": 120,
   "id": "ab2be1d4",
   "metadata": {},
   "outputs": [],
   "source": [
    "newfile.columns=['movieId','title','genres','count','mean']"
   ]
  },
  {
   "cell_type": "code",
   "execution_count": 121,
   "id": "42184482",
   "metadata": {},
   "outputs": [
    {
     "data": {
      "text/html": [
       "<div>\n",
       "<style scoped>\n",
       "    .dataframe tbody tr th:only-of-type {\n",
       "        vertical-align: middle;\n",
       "    }\n",
       "\n",
       "    .dataframe tbody tr th {\n",
       "        vertical-align: top;\n",
       "    }\n",
       "\n",
       "    .dataframe thead th {\n",
       "        text-align: right;\n",
       "    }\n",
       "</style>\n",
       "<table border=\"1\" class=\"dataframe\">\n",
       "  <thead>\n",
       "    <tr style=\"text-align: right;\">\n",
       "      <th></th>\n",
       "      <th>movieId</th>\n",
       "      <th>title</th>\n",
       "      <th>genres</th>\n",
       "      <th>count</th>\n",
       "      <th>mean</th>\n",
       "    </tr>\n",
       "  </thead>\n",
       "  <tbody>\n",
       "    <tr>\n",
       "      <th>314</th>\n",
       "      <td>356</td>\n",
       "      <td>Forrest Gump (1994)</td>\n",
       "      <td>Comedy|Drama|Romance|War</td>\n",
       "      <td>329</td>\n",
       "      <td>4.164134</td>\n",
       "    </tr>\n",
       "    <tr>\n",
       "      <th>277</th>\n",
       "      <td>318</td>\n",
       "      <td>Shawshank Redemption, The (1994)</td>\n",
       "      <td>Crime|Drama</td>\n",
       "      <td>317</td>\n",
       "      <td>4.429022</td>\n",
       "    </tr>\n",
       "    <tr>\n",
       "      <th>257</th>\n",
       "      <td>296</td>\n",
       "      <td>Pulp Fiction (1994)</td>\n",
       "      <td>Comedy|Crime|Drama|Thriller</td>\n",
       "      <td>307</td>\n",
       "      <td>4.197068</td>\n",
       "    </tr>\n",
       "    <tr>\n",
       "      <th>510</th>\n",
       "      <td>593</td>\n",
       "      <td>Silence of the Lambs, The (1991)</td>\n",
       "      <td>Crime|Horror|Thriller</td>\n",
       "      <td>279</td>\n",
       "      <td>4.161290</td>\n",
       "    </tr>\n",
       "    <tr>\n",
       "      <th>1938</th>\n",
       "      <td>2571</td>\n",
       "      <td>Matrix, The (1999)</td>\n",
       "      <td>Action|Sci-Fi|Thriller</td>\n",
       "      <td>278</td>\n",
       "      <td>4.192446</td>\n",
       "    </tr>\n",
       "  </tbody>\n",
       "</table>\n",
       "</div>"
      ],
      "text/plain": [
       "      movieId                             title                       genres  \\\n",
       "314       356               Forrest Gump (1994)     Comedy|Drama|Romance|War   \n",
       "277       318  Shawshank Redemption, The (1994)                  Crime|Drama   \n",
       "257       296               Pulp Fiction (1994)  Comedy|Crime|Drama|Thriller   \n",
       "510       593  Silence of the Lambs, The (1991)        Crime|Horror|Thriller   \n",
       "1938     2571                Matrix, The (1999)       Action|Sci-Fi|Thriller   \n",
       "\n",
       "      count      mean  \n",
       "314     329  4.164134  \n",
       "277     317  4.429022  \n",
       "257     307  4.197068  \n",
       "510     279  4.161290  \n",
       "1938    278  4.192446  "
      ]
     },
     "execution_count": 121,
     "metadata": {},
     "output_type": "execute_result"
    }
   ],
   "source": [
    "newfile[newfile['count']>50].sort_values(by= 'count',ascending=False).iloc[0:5]"
   ]
  },
  {
   "cell_type": "code",
   "execution_count": 122,
   "id": "bc85a3a7",
   "metadata": {},
   "outputs": [],
   "source": [
    "newdata = newfile[newfile['count']>50]"
   ]
  },
  {
   "cell_type": "code",
   "execution_count": 123,
   "id": "87f8fcb5",
   "metadata": {},
   "outputs": [
    {
     "data": {
      "text/plain": [
       "movieId                                 480\n",
       "title                  Jurassic Park (1993)\n",
       "genres     Action|Adventure|Sci-Fi|Thriller\n",
       "count                                   238\n",
       "mean                                   3.75\n",
       "Name: 418, dtype: object"
      ]
     },
     "execution_count": 123,
     "metadata": {},
     "output_type": "execute_result"
    }
   ],
   "source": [
    "newdata[newdata['genres'].str.contains('Sci-Fi')].sort_values(by='count',ascending=False).iloc[2]"
   ]
  },
  {
   "cell_type": "code",
   "execution_count": 124,
   "id": "a5490451",
   "metadata": {},
   "outputs": [],
   "source": [
    "import requests\n",
    "import numpy as np\n",
    "from bs4 import BeautifulSoup"
   ]
  },
  {
   "cell_type": "code",
   "execution_count": 125,
   "id": "b892ff69",
   "metadata": {},
   "outputs": [],
   "source": [
    "def scrapper(imdbId):\n",
    "    id = str(int(imdbId))\n",
    "    n_zeroes = 7 - len(id)\n",
    "    new_id = \"0\"*n_zeroes + id\n",
    "    URL = f\"https://www.imdb.com/title/tt{new_id}/\"\n",
    "    request_header = {'Content-Type': 'text/html; charset=UTF-8', \n",
    "                      'User-Agent': 'Mozilla/5.0 (Windows NT 10.0; Win64; x64; rv:109.0) Gecko/20100101 Firefox/119.0', \n",
    "                      'Accept-Encoding': 'gzip, deflate, br'}\n",
    "    response = requests.get(URL, headers=request_header)\n",
    "    soup = BeautifulSoup(response.text)\n",
    "    imdb_rating = soup.find('span', attrs={'class' : 'sc-bde20123-1 cMEQkK'})\n",
    "    return imdb_rating.text if imdb_rating else np.nan"
   ]
  },
  {
   "cell_type": "code",
   "execution_count": 128,
   "id": "ade60b33",
   "metadata": {},
   "outputs": [],
   "source": [
    "imdb = pd.merge(newdata,df4,on='movieId')"
   ]
  },
  {
   "cell_type": "code",
   "execution_count": null,
   "id": "5ad512eb",
   "metadata": {},
   "outputs": [],
   "source": [
    "imdb['imdbRatings'] = imdb['imdbId'].apply(scrapper)"
   ]
  },
  {
   "cell_type": "code",
   "execution_count": null,
   "id": "4c651fc6",
   "metadata": {},
   "outputs": [],
   "source": [
    "imdb"
   ]
  },
  {
   "cell_type": "code",
   "execution_count": null,
   "id": "e378e942",
   "metadata": {},
   "outputs": [],
   "source": [
    "imdb[imdb['imdbRatings']==imdb['imdbRatings'].max()]\n"
   ]
  },
  {
   "cell_type": "code",
   "execution_count": null,
   "id": "f3cb0c08",
   "metadata": {},
   "outputs": [],
   "source": [
    "imdbSci_fi = imdb[imdb['genres'].str.contains('Sci-Fi')]"
   ]
  },
  {
   "cell_type": "code",
   "execution_count": null,
   "id": "17abb180",
   "metadata": {},
   "outputs": [],
   "source": [
    "imdbSci_fi[imdbSci_fi['imdbRatings']==imdbSci_fi['imdbRatings'].max()]"
   ]
  },
  {
   "cell_type": "code",
   "execution_count": null,
   "id": "e91f8bc2",
   "metadata": {},
   "outputs": [],
   "source": []
  }
 ],
 "metadata": {
  "kernelspec": {
   "display_name": "Python 3 (ipykernel)",
   "language": "python",
   "name": "python3"
  },
  "language_info": {
   "codemirror_mode": {
    "name": "ipython",
    "version": 3
   },
   "file_extension": ".py",
   "mimetype": "text/x-python",
   "name": "python",
   "nbconvert_exporter": "python",
   "pygments_lexer": "ipython3",
   "version": "3.9.13"
  }
 },
 "nbformat": 4,
 "nbformat_minor": 5
}
